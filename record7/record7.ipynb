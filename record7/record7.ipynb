{
 "cells": [
  {
   "cell_type": "code",
   "execution_count": 5,
   "id": "12f66f0f-1479-409b-9bcb-823c50e846c3",
   "metadata": {},
   "outputs": [
    {
     "name": "stdout",
     "output_type": "stream",
     "text": [
      "first number: 10\n",
      "second number: 20\n",
      "sum = 30\n",
      "mull = 200\n",
      "sub = -10\n"
     ]
    }
   ],
   "source": [
    "#example\n",
    "import calculation\n",
    "a=10\n",
    "b=20\n",
    "c=calculation.add(a,b)\n",
    "d=calculation.mull(a,b) \n",
    "e=calculation.sub(a,b)\n",
    "print(\"first number:\",a)\n",
    "print(\"second number:\",b)\n",
    "print(\"sum =\",c)\n",
    "print(\"mull =\",d)\n",
    "print(\"sub =\",e)"
   ]
  },
  {
   "cell_type": "code",
   "execution_count": 16,
   "id": "6e5a0267-fb51-43e9-803f-6c30910496f9",
   "metadata": {},
   "outputs": [
    {
     "name": "stdout",
     "output_type": "stream",
     "text": [
      "Rectangle:\n",
      " Area of Rectangle: 200\n",
      "Perimeter of Rectangle:  60\n",
      "circle:\n",
      " Area of Circle: 1963\n",
      " Perimeter of Circle: 157\n"
     ]
    }
   ],
   "source": [
    "#1 create modules rectangle , circle . include methods to find area and perimeter of respective figures in each modules \n",
    "#write program that finds area and perimeter of figures by different importing statements\n",
    "import rectangle \n",
    "import circle\n",
    "\n",
    "length=10\n",
    "width=20\n",
    "\n",
    "radius=25\n",
    "\n",
    "print(\"Rectangle:\")\n",
    "print(\" Area of Rectangle:\",rectangle.area(length,width))\n",
    "print(\"Perimeter of Rectangle: \",rectangle.perimeter(length,width))\n",
    "\n",
    "\n",
    "print(\"circle:\")\n",
    "print(\" Area of Circle:\",round(circle.area(radius)))\n",
    "print(\" Perimeter of Circle:\",round(circle.perimeter(radius)))\n"
   ]
  },
  {
   "cell_type": "code",
   "execution_count": 27,
   "id": "04e28958-5c57-4a06-bf5f-dcf394a8304d",
   "metadata": {},
   "outputs": [
    {
     "name": "stdout",
     "output_type": "stream",
     "text": [
      "Rectangle:\n",
      " Area of Rectangle: 375\n",
      "Perimeter of Rectangle:  80\n",
      "------------------\n",
      "circle:\n",
      " Area of Circle: 2642\n",
      " Perimeter of Circle: 182\n",
      "------------------\n",
      "cuboid:\n",
      " Area of Cuboid: 1440\n",
      " Perimeter of Cuboid: 188\n",
      "------------------\n",
      "sphere:\n",
      " Area of Sphere: 11310\n",
      " Area of Sphere: 188\n"
     ]
    }
   ],
   "source": [
    "#2 create a package shapes with modules rectangle, circle and sub package graphics3D with modules cuboid and sphere. include methods to find area and perimeter of respective figures in each module write programs that finds area and perimeter of figures by different importing statements (include selective import of modules and import * statements\n",
    "\n",
    "import shapes.rectangle\n",
    "import shapes.circle\n",
    "import shapes.graphics3D.cuboid\n",
    "import shapes.graphics3D.sphere\n",
    "\n",
    "length=15\n",
    "width=25\n",
    "\n",
    "radius=29\n",
    "\n",
    "cub_length=15\n",
    "cub_width=20\n",
    "cub_height=12\n",
    "\n",
    "sphere_radius=30\n",
    "\n",
    "print(\"Rectangle:\")\n",
    "print(\" Area of Rectangle:\",shapes.rectangle.area(length,width))\n",
    "print(\"Perimeter of Rectangle: \",shapes.rectangle.perimeter(length,width))\n",
    "print(\"------------------\")\n",
    "\n",
    "print(\"circle:\")\n",
    "print(\" Area of Circle:\",round(shapes.circle.area(radius)))\n",
    "print(\" Perimeter of Circle:\",round(shapes.circle.perimeter(radius)))\n",
    "print(\"------------------\")\n",
    "\n",
    "print(\"cuboid:\")\n",
    "print(\" Area of Cuboid:\",shapes.graphics3D.cuboid.area(cub_length,cub_width,cub_height))\n",
    "print(\" Perimeter of Cuboid:\",shapes.graphics3D.cuboid.perimeter(cub_length,cub_width,cub_height))\n",
    "print(\"------------------\")\n",
    "\n",
    "print(\"sphere:\")\n",
    "print(\" Area of Sphere:\",round(shapes.graphics3D.sphere.area(sphere_radius)))\n",
    "print(\" Area of Sphere:\",round(shapes.graphics3D.sphere.perimeter(sphere_radius)))"
   ]
  },
  {
   "cell_type": "code",
   "execution_count": null,
   "id": "873d2f78-4030-4431-b3f5-70c63764fca8",
   "metadata": {},
   "outputs": [],
   "source": []
  }
 ],
 "metadata": {
  "kernelspec": {
   "display_name": "Python 3 (ipykernel)",
   "language": "python",
   "name": "python3"
  },
  "language_info": {
   "codemirror_mode": {
    "name": "ipython",
    "version": 3
   },
   "file_extension": ".py",
   "mimetype": "text/x-python",
   "name": "python",
   "nbconvert_exporter": "python",
   "pygments_lexer": "ipython3",
   "version": "3.11.5"
  }
 },
 "nbformat": 4,
 "nbformat_minor": 5
}
