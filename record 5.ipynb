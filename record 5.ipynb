{
 "cells": [
  {
   "cell_type": "code",
   "execution_count": 4,
   "id": "2aca3417",
   "metadata": {},
   "outputs": [
    {
     "name": "stdout",
     "output_type": "stream",
     "text": [
      "enter first number:5\n",
      "enter second number:10\n",
      "GCD of 2 numbers :   5\n"
     ]
    }
   ],
   "source": [
    "#1 find gcd of 2 numbers\n",
    "\n",
    "a= int(input(\"enter first number:\"))\n",
    "b= int(input(\"enter second number:\"))\n",
    "\n",
    "while b:\n",
    "    a,b = b , a % b\n",
    "print(\"GCD of 2 numbers :  \",a)"
   ]
  },
  {
   "cell_type": "code",
   "execution_count": 2,
   "id": "064ffac6",
   "metadata": {},
   "outputs": [
    {
     "name": "stdout",
     "output_type": "stream",
     "text": [
      "enter numbers:1 2 3 4 5 6 7 8 9 10\n",
      "list without even numbers: ['1', '3', '5', '7', '9']\n"
     ]
    }
   ],
   "source": [
    "#2 from a list of integers create a list removing even numbers\n",
    "\n",
    "num= input(\"enter numbers:\").split()\n",
    "num_list=[]\n",
    "for i in num:\n",
    "    if int(i)%2!=0:\n",
    "        num_list.append(i)\n",
    "        \n",
    "print(\"list without even numbers:\",num_list)"
   ]
  },
  {
   "cell_type": "code",
   "execution_count": 2,
   "id": "c757169a",
   "metadata": {},
   "outputs": [
    {
     "name": "stdout",
     "output_type": "stream",
     "text": [
      "enter numbers:2 4 6 8\n",
      "sum of all items in the list: 20\n"
     ]
    }
   ],
   "source": [
    "#3 find the sum of all items in a list \n",
    "\n",
    "num= input(\"enter numbers:\").split()\n",
    "sums=0\n",
    "for i in num:\n",
    "    sums+=int(i)\n",
    "print(\"sum of all items in the list:\",sums)"
   ]
  },
  {
   "cell_type": "code",
   "execution_count": 3,
   "id": "b0313f25",
   "metadata": {},
   "outputs": [
    {
     "name": "stdout",
     "output_type": "stream",
     "text": [
      "enter starting range:999\n",
      "enter ending range:9999\n",
      "the square of even numbers in range:\n",
      "4624\n",
      "6084\n",
      "6400\n",
      "8464\n"
     ]
    }
   ],
   "source": [
    "#4 generate  alist of 4 digits even digit numbers in a given range and the number is a \n",
    "\n",
    "import math\n",
    "\n",
    "start=int(input(\"enter starting range:\"))\n",
    "end=int(input(\"enter ending range:\"))\n",
    "\n",
    "print(\"the square of even numbers in range:\")\n",
    "for num in range(start,end +1):\n",
    "    if all(int(digit)%2==0 for digit in str(num)):\n",
    "        if math.isqrt(num)**2 == num:\n",
    "            print(num)"
   ]
  },
  {
   "cell_type": "code",
   "execution_count": 4,
   "id": "b59eff49",
   "metadata": {},
   "outputs": [
    {
     "name": "stdin",
     "output_type": "stream",
     "text": [
      "enter text: will\n"
     ]
    },
    {
     "name": "stdout",
     "output_type": "stream",
     "text": [
      "Modified string:\n",
      "willing\n"
     ]
    }
   ],
   "source": [
    "#6 add \"ing\" at end of  a string .else if it ends with ing add \"ly\" \n",
    "\n",
    "txt= input(\"enter text:\")\n",
    "print(\"Modified string:\")\n",
    "if txt.endswith(\"ing\"):\n",
    "    print(txt+\"ly\")\n",
    "else:\n",
    "    print(txt+\"ing\")"
   ]
  },
  {
   "cell_type": "code",
   "execution_count": 5,
   "id": "0897d85a-66c7-4acf-a776-84670275346c",
   "metadata": {},
   "outputs": [
    {
     "name": "stdin",
     "output_type": "stream",
     "text": [
      "enter text: hello\n"
     ]
    },
    {
     "name": "stdout",
     "output_type": "stream",
     "text": [
      "charecter frequency in the string:\n",
      "e : 1\n",
      "l : 2\n",
      "o : 1\n",
      "h : 1\n"
     ]
    }
   ],
   "source": [
    "#5  \n",
    "\n",
    "txt=input(\"enter text:\")\n",
    "print(\"charecter frequency in the string:\")\n",
    "for i in set(txt):\n",
    "    print(i,\":\",txt.count(i))"
   ]
  },
  {
   "cell_type": "code",
   "execution_count": null,
   "id": "82617bb1-5783-47d5-9232-22b20a794071",
   "metadata": {},
   "outputs": [],
   "source": []
  }
 ],
 "metadata": {
  "kernelspec": {
   "display_name": "Python 3 (ipykernel)",
   "language": "python",
   "name": "python3"
  },
  "language_info": {
   "codemirror_mode": {
    "name": "ipython",
    "version": 3
   },
   "file_extension": ".py",
   "mimetype": "text/x-python",
   "name": "python",
   "nbconvert_exporter": "python",
   "pygments_lexer": "ipython3",
   "version": "3.11.5"
  }
 },
 "nbformat": 4,
 "nbformat_minor": 5
}
