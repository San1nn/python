{
 "cells": [
  {
   "cell_type": "code",
   "execution_count": 3,
   "id": "f77fcee8",
   "metadata": {},
   "outputs": [
    {
     "name": "stdout",
     "output_type": "stream",
     "text": [
      "enter a string: welcome\n",
      "the new first and last swapped string  with is eelcomw\n"
     ]
    }
   ],
   "source": [
    "#1 string char exchange\n",
    "string = input(\"enter a string: \")\n",
    "print(\"the new first and last swapped string  with is\",string[-1]+string[1:-1]+string[0])"
   ]
  },
  {
   "cell_type": "code",
   "execution_count": 2,
   "id": "5a827b5f",
   "metadata": {},
   "outputs": [
    {
     "name": "stdout",
     "output_type": "stream",
     "text": [
      "enter a string1: good \n",
      "enter a string2: morning\n",
      "the first 2 swapped strings is: mood  gorning\n"
     ]
    }
   ],
   "source": [
    "#2 string swap and concatenate\n",
    "s1=input(\"enter a string1: \")\n",
    "s2=input(\"enter a string2: \")\n",
    "print(\"the first 2 swapped strings is:\",s2[:2]+s1[2:],s1[:2]+s2[2:])"
   ]
  },
  {
   "cell_type": "code",
   "execution_count": 16,
   "id": "8504d041",
   "metadata": {},
   "outputs": [
    {
     "name": "stdout",
     "output_type": "stream",
     "text": [
      "enter string:blabla\n",
      "after replacing the repeating element bla$la\n"
     ]
    }
   ],
   "source": [
    "#3  replace char with $\n",
    "str=input(\"enter string:\")\n",
    "print(\"after replacing the repeating element\",str[0]+str[1:].replace(str[0],\"$\"))"
   ]
  },
  {
   "cell_type": "code",
   "execution_count": 1,
   "id": "3a4fa9c5",
   "metadata": {},
   "outputs": [
    {
     "name": "stdout",
     "output_type": "stream",
     "text": [
      "enter element by(,)for tuple:green,blue,yellow\n",
      "first color in list 1: green last color in list: yellow\n"
     ]
    }
   ],
   "source": [
    "#4 color list\n",
    "cset=list(input(\"enter element by(,)for tuple:\").split(\",\"))\n",
    "print(\"first color in list 1:\",cset[0],\"last color in list:\",cset[-1])"
   ]
  },
  {
   "cell_type": "code",
   "execution_count": 3,
   "id": "053309e6",
   "metadata": {},
   "outputs": [
    {
     "name": "stdout",
     "output_type": "stream",
     "text": [
      "enter file name:hello.png\n",
      "the extension is png\n"
     ]
    }
   ],
   "source": [
    "#5 file extension print\n",
    "filename=input(\"enter file name:\")\n",
    "print(\"the extension is\",filename.split(\".\")[-1])"
   ]
  },
  {
   "cell_type": "code",
   "execution_count": 2,
   "id": "6907385f",
   "metadata": {},
   "outputs": [
    {
     "name": "stdout",
     "output_type": "stream",
     "text": [
      "enter element by(,)for tuple:green,blue,yellow,green\n",
      "from orginal tuple(tupl)\n",
      "the 3rd element: yellow and 3rd last element is: blue\n"
     ]
    }
   ],
   "source": [
    "#6 3rd element and 3rd last element\n",
    "tupl=tuple(input(\"enter element by(,)for tuple:\").split(\",\"))\n",
    "tup1=tupl[2];tup2=tupl[-3]\n",
    "print(f\"from orginal tuple(tupl)\")\n",
    "print(f\"the 3rd element: {tup1} and 3rd last element is: {tup2}\")"
   ]
  },
  {
   "cell_type": "code",
   "execution_count": 2,
   "id": "4c145609",
   "metadata": {},
   "outputs": [
    {
     "name": "stdout",
     "output_type": "stream",
     "text": [
      "enter the colors by space for set1:blue green yellow\n",
      "enter the colors by space for set2:white green blue\n",
      "\n",
      " set 1: {'green', 'yellow', 'blue'} set 2: {'green', 'blue', 'white'}\n",
      "\n",
      " all colors from set1,not contained in set2 . {'yellow'}\n"
     ]
    }
   ],
   "source": [
    "#7 write a python program to print all colors from color-set1, not contained in color set-2\n",
    "cset1=set(input(\"enter the colors by space for set1:\").split())\n",
    "cset2=set(input(\"enter the colors by space for set2:\").split())\n",
    "print(\"\\n set 1:\",cset1,\"set 2:\",cset2)\n",
    "print(\"\\n all colors from set1,not contained in set2 .\",cset1-cset2)"
   ]
  },
  {
   "cell_type": "code",
   "execution_count": 4,
   "id": "921e4d91",
   "metadata": {},
   "outputs": [
    {
     "name": "stdout",
     "output_type": "stream",
     "text": [
      "enter 5 student names seperated by spaces:anu manu abu ammu sanu\n",
      "Ascending: {0: 'anu', 1: 'manu', 2: 'abu', 3: 'ammu', 4: 'sanu'}\n",
      "Descending: {4: 'sanu', 3: 'ammu', 2: 'abu', 1: 'manu', 0: 'anu'}\n"
     ]
    }
   ],
   "source": [
    "#8 accept 5 student names from user,sort dictionary in ascending and descending order\n",
    "names=input(\"enter 5 student names seperated by spaces:\").split()\n",
    "stud=dict(enumerate(names))\n",
    "print(\"Ascending:\",dict(sorted(stud.items())))\n",
    "print(\"Descending:\",dict(sorted(stud.items(),reverse=True)))"
   ]
  },
  {
   "cell_type": "code",
   "execution_count": 4,
   "id": "106c818b",
   "metadata": {},
   "outputs": [
    {
     "name": "stdout",
     "output_type": "stream",
     "text": [
      "enter 3 names seperated by spaces for dict1:yaseen sanin amil\n",
      "enter 2 names seperated by spaces for dict2:nabeel adil\n",
      "after merging both dictionaries: {1: 'yaseen', 2: 'sanin', 3: 'amil', 4: 'nabeel', 5: 'adil'}\n"
     ]
    }
   ],
   "source": [
    "#9 accept 3 names in dict1 and 2 names in dict2 and merge both dictionaries \n",
    "n1=input(\"enter 3 names seperated by spaces for dict1:\").split()\n",
    "dict1={1:n1[0], 2:n1[1],3:n1[2]}\n",
    "\n",
    "n2=input(\"enter 2 names seperated by spaces for dict2:\").split()\n",
    "dict2={4:n2[0],5:n2[1]}\n",
    "\n",
    "dict1.update(dict2)\n",
    "print(\"after merging both dictionaries:\",dict1)"
   ]
  },
  {
   "cell_type": "code",
   "execution_count": 10,
   "id": "a8e0759a",
   "metadata": {},
   "outputs": [
    {
     "name": "stdout",
     "output_type": "stream",
     "text": [
      "even numbers: (2, 4, 6, 8, 10, 12, 14, 16, 18, 20, 22, 24)\n",
      "the sum of even numbers(1-25): 156\n"
     ]
    }
   ],
   "source": [
    "#10 print all even numbers (1-25) and calculate sum,by range() directly even without a loop\n",
    "r=tuple(range(2,25,2))\n",
    "print(\"even numbers:\",r)\n",
    "print(\"the sum of even numbers(1-25):\",sum(r))"
   ]
  },
  {
   "cell_type": "code",
   "execution_count": null,
   "id": "08b29d86",
   "metadata": {},
   "outputs": [],
   "source": []
  }
 ],
 "metadata": {
  "kernelspec": {
   "display_name": "Python 3 (ipykernel)",
   "language": "python",
   "name": "python3"
  },
  "language_info": {
   "codemirror_mode": {
    "name": "ipython",
    "version": 3
   },
   "file_extension": ".py",
   "mimetype": "text/x-python",
   "name": "python",
   "nbconvert_exporter": "python",
   "pygments_lexer": "ipython3",
   "version": "3.11.5"
  }
 },
 "nbformat": 4,
 "nbformat_minor": 5
}
