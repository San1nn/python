
{
 "cells": [
  {
   "cell_type": "code",
   "execution_count": 1,
   "id": "b8a6dbe3",
   "metadata": {},
   "outputs": [
    {
     "name": "stdout",
     "output_type": "stream",
     "text": [
      "enter text:   h hi hello h hi\n"
     ]
    },
    {
     "name": "stdout",
     "output_type": "stream",
     "text": [
      "occurance of each word: [('hello', 1), ('h', 2), ('hi', 2)]\n"
     ]
    }
   ],
   "source": [
    "txt=input(\"enter text:  \").split()\n",
    "\n",
    "print(\"occurance of each word :\",[(i,txt.count(i))for i in set(txt)])\n"
   ]
  },
  {
   "cell_type": "code",
   "execution_count": 2,
   "id": "0e0fac73",
   "metadata": {},
   "outputs": [
    {
     "name": "stdout",
     "output_type": "stream",
     "text": [
      "enter the numbers: 12 66 58 99 102 109\n"
     ]
    },
    {
     "name": "stdout",
     "output_type": "stream",
     "text": [
      "values under 100 are : [12, 66, 58, 99, 'over', 'over']\n"
     ]
    }
   ],
   "source": [
    "#2 prompt the user for a list of integers.For all values are greater than 100,store \"over\" instead\n",
    "num=input(\"enter the numbers:\").split()\n",
    "num_list=[int(x) for x in num]\n",
    "result=[\"over\" if x > 100 else x for x in num_list]\n",
    "print(\"values under 100 are :\",result)"
   ]
  },
  {
   "cell_type": "code",
   "execution_count": 3,
   "id": "0d1fd7bc",
   "metadata": {},
   "outputs": [
    {
     "name": "stdout",
     "output_type": "stream",
     "text": [
      "enter names: sanin aabis rashid\n"
     ]
    },
    {
     "name": "stdout",
     "output_type": "stream",
     "text": [
      "occurance of a within list: 4\n"
     ]
    }
   ],
   "source": [
    "#3 store a list of first names. count the occurances of \"a\" within the list\n",
    "names=input(\"enter names:\")\n",
    "print(\"occurance of a within list:\",sum([x.count(\"a\") for x in names]))"
   ]
  },
  {
   "cell_type": "code",
   "execution_count": 8,
   "id": "41571f50",
   "metadata": {},
   "outputs": [
    {
     "name": "stdout",
     "output_type": "stream",
     "text": [
      "Enter the first list of integers seperated by spaces:5 4 3 2 1\n",
      "Enter the second list of integers seperated by spaces:1 2 3 4 5\n",
      "same length: same\n",
      "same sum: same\n",
      "common values: True\n"
     ]
    }
   ],
   "source": [
    "#4 enter 2 lists of integers. check (a) if list are same length (b) if list sums to same value (c)if ant value occur in both list\n",
    "list1=list(map(int,input(\"Enter the first list of integers seperated by spaces:\").split()))\n",
    "list2=list(map(int,input(\"Enter the second list of integers seperated by spaces:\").split()))\n",
    "\n",
    "# (a) Checking if lengths are the same\n",
    "print(f\"same length: {'same' if len(list1) == len(list2) else 'not same length'}\")\n",
    "\n",
    "# (b) Checking if sums are the same\n",
    "print(f\"same sum: {'same' if sum(list1) == sum(list2) else 'not same sum'}\")\n",
    "\n",
    "\n",
    "#(c)check if any value occurs in both lists\n",
    "print(f\"common values: {any([x in list2 for x in list1])}\")"
   ]
  },
  {
   "cell_type": "code",
   "execution_count": 4,
   "id": "f103ebc8",
   "metadata": {},
   "outputs": [
    {
     "name": "stdout",
     "output_type": "stream",
     "text": [
      "enter numbers:  12 23 11 -12 -34 11\n"
     ]
    },
    {
     "name": "stdout",
     "output_type": "stream",
     "text": [
      "list of +ve numbers: [12, 23, 11, 11]\n"
     ]
    }
   ],
   "source": [
    "#list comprehensiontxt\n",
    "\n",
    "#(a) generate +ve list of numbers from a given list of integers\n",
    "num=input(\"enter numbers: \").split()\n",
    "num_list=[int(i) for i in num if int(i)>0]\n",
    "print(\"list of +ve numbers:\",num_list) \n",
    "\n"
   ]
  },
  {
   "cell_type": "code",
   "execution_count": 5,
   "id": "7c59191f",
   "metadata": {},
   "outputs": [
    {
     "name": "stdout",
     "output_type": "stream",
     "text": [
      "enter names: yaseen usman james\n"
     ]
    },
    {
     "name": "stdout",
     "output_type": "stream",
     "text": [
      "list of vowels in names: ['a', 'e', 'e', 'u', 'a', 'a', 'e']\n"
     ]
    }
   ],
   "source": [
    "#(c) form a list of vowels selected from a given word\n",
    "names= input(\"enter names:\")\n",
    "print(\"list of vowels in names:\",[i for i in names if i in \"aeiou\"])"
   ]
  },
  {
   "cell_type": "code",
   "execution_count": 7,
   "id": "f544e235",
   "metadata": {},
   "outputs": [
    {
     "name": "stdout",
     "output_type": "stream",
     "text": [
      "names: muhammed\n"
     ]
    },
    {
     "name": "stdout",
     "output_type": "stream",
     "text": [
      "Ordinal value: [109, 117, 104, 97, 109, 109, 101, 100]\n"
     ]
    }
   ],
   "source": [
    "#(d) list ordinal value of each element of  a word with use ord()\n",
    "name= input(\"names:\")\n",
    "print(\"Ordinal value of:\",[ord(i) for i in name])"
   ]
  },
  {
   "cell_type": "code",
   "execution_count": 14,
   "id": "debba91d",
   "metadata": {},
   "outputs": [
    {
     "name": "stdout",
     "output_type": "stream",
     "text": [
      "Enter numbers separated by spaces: 21 2 3 44 \n",
      "Squares of the entered numbers are: [441, 4, 9, 1936]\n"
     ]
    }
   ],
   "source": [
    "#(b) square of n numbers\n",
    "numbers = input(\"Enter numbers separated by spaces: \").split()\n",
    "squares = [int(num)**2 for num in numbers]\n",
    "print(f\"Squares of the entered numbers are: {squares}\")\n"
   ]
  },
  {
   "cell_type": "code",
   "execution_count": null,
   "id": "9a379937",
   "metadata": {},
   "outputs": [],
   "source": []
  }
 ],
 "metadata": {
  "kernelspec": {
   "display_name": "Python 3 (ipykernel)",
   "language": "python",
   "name": "python3"
  },
  "language_info": {
   "codemirror_mode": {
    "name": "ipython",
    "version": 3
   },
   "file_extension": ".py",
   "mimetype": "text/x-python",
   "name": "python",
   "nbconvert_exporter": "python",
   "pygments_lexer": "ipython3",
   "version": "3.11.5"
  }
 },
 "nbformat": 4,
 "nbformat_minor": 5
}
