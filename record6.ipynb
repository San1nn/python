{
 "cells": [
  {
   "cell_type": "code",
   "execution_count": 12,
   "id": "23cc7237-95a2-4975-98a2-b58116e17e45",
   "metadata": {},
   "outputs": [
    {
     "name": "stdin",
     "output_type": "stream",
     "text": [
      "enter the current year: 2024\n",
      "enter the final year: 2050\n"
     ]
    },
    {
     "name": "stdout",
     "output_type": "stream",
     "text": [
      "leap years in range:\n",
      "2024\n",
      "2028\n",
      "2032\n",
      "2036\n",
      "2040\n",
      "2044\n",
      "2048\n"
     ]
    }
   ],
   "source": [
    "#1 check if \n",
    "\n",
    "def leapyr(cyear,fyear):\n",
    "    for i in range(cyear,fyear+1):\n",
    "        if (i % 4==0 and i % 100!=0 ) or(i % 400==0):\n",
    "            print(i)\n",
    "            \n",
    "cyear=int(input(\"enter the current year:\"))\n",
    "fyear=int(input(\"enter the final year:\"))\n",
    "print(\"leap years in range:\")\n",
    "leapyr(cyear,fyear)\n",
    "        "
   ]
  },
  {
   "cell_type": "code",
   "execution_count": 14,
   "id": "47c08e64-3dd2-4113-b40e-be7b98003834",
   "metadata": {},
   "outputs": [
    {
     "name": "stdin",
     "output_type": "stream",
     "text": [
      "enter the numbers: 5\n"
     ]
    },
    {
     "name": "stdout",
     "output_type": "stream",
     "text": [
      "factorial of the number 5 = 120\n"
     ]
    }
   ],
   "source": [
    "#2 find factorial of a number \n",
    "def factorial(n):\n",
    "    if n==1:\n",
    "        return 1\n",
    "    return n*factorial(n-1)\n",
    "n=int(input(\"enter the numbers:\"))\n",
    "\n",
    "print(\"factorial of the number\",n,\"=\",factorial(n))\n"
   ]
  },
  {
   "cell_type": "code",
   "execution_count": 3,
   "id": "b7ff1775-9671-4d1c-bacb-a6679cc82016",
   "metadata": {},
   "outputs": [
    {
     "name": "stdin",
     "output_type": "stream",
     "text": [
      "enter a number: 5\n"
     ]
    },
    {
     "name": "stdout",
     "output_type": "stream",
     "text": [
      "0\n",
      "1\n",
      "1\n",
      "2\n",
      "3\n",
      "5\n"
     ]
    }
   ],
   "source": [
    "#3 generate fibonacci series of n numbers\n",
    "\n",
    "def fact(n):\n",
    "    a=1;b=0;c=0\n",
    "    while(c<=n):\n",
    "        print(c)\n",
    "        c=a+b\n",
    "        a=b\n",
    "        b=c\n",
    "n=int(input(\"enter a number:\"))\n",
    "fact(n)"
   ]
  },
  {
   "cell_type": "code",
   "execution_count": 5,
   "id": "bda5655d-20bb-41dc-b386-16908a46589b",
   "metadata": {},
   "outputs": [
    {
     "name": "stdin",
     "output_type": "stream",
     "text": [
      "enter a string: my name is muhammed sanin\n"
     ]
    },
    {
     "name": "stdout",
     "output_type": "stream",
     "text": [
      "longest word is : muhammed\n",
      "length of longest word: 8\n"
     ]
    }
   ],
   "source": [
    "#4 accept a list of words anf return length of longest word\n",
    "def longestwodef longest(s):\n",
    "    return max(s,key=len)\n",
    "s=input(\"enter a list of words:\").split()\n",
    "print(long(s))rd(word):\n",
    "    longest=max(words,key=len)\n",
    "    return longest,len(longest)\n",
    "words=input(\"enter a string:\").split()\n",
    "word,length=longestword(words)\n",
    "print(\"longest word is :\",word)\n",
    "print(\"length of longest word:\",length)"
   ]
  },
  {
   "cell_type": "code",
   "execution_count": 18,
   "id": "bdb3153a-319b-4883-981d-f21ee513e8ae",
   "metadata": {},
   "outputs": [
    {
     "name": "stdout",
     "output_type": "stream",
     "text": [
      "* \n",
      "* * \n",
      "* * * \n",
      "* * * * \n",
      "* * * * * \n",
      "* * * * \n",
      "* * * \n",
      "* * \n",
      "* \n"
     ]
    }
   ],
   "source": [
    "#5 construct pattern using loop\n",
    "def pat(n):\n",
    "    for _ in range(n):\n",
    "        print(\"* \",end=\"\")\n",
    "    print()\n",
    "\n",
    "n= 1;j= 0\n",
    "while j< 9:\n",
    "    pat(n)\n",
    "    j+= 1\n",
    "    if j< 5:\n",
    "        n+= 1\n",
    "    else:\n",
    "        n-= 1\n"
   ]
  },
  {
   "cell_type": "code",
   "execution_count": 21,
   "id": "d41cb25f-19c2-440b-ba0a-97b30b04dfdc",
   "metadata": {},
   "outputs": [
    {
     "name": "stdin",
     "output_type": "stream",
     "text": [
      "enter the number: 4\n"
     ]
    },
    {
     "name": "stdout",
     "output_type": "stream",
     "text": [
      "1\t\n",
      "2\t4\t\n",
      "3\t6\t9\t\n",
      "4\t8\t12\t16\t\n"
     ]
    }
   ],
   "source": [
    "#7 construct a step number pyramid using numbers accepted from the user\n",
    "def pat(n):\n",
    "    for i in range(1, n+1):\n",
    "        for j in range(1, i+1):\n",
    "            print(i* j,end =\"\\t\")\n",
    "        print()\n",
    "\n",
    "n=int(input(\"enter the number:\"))\n",
    "pat(n)"
   ]
  },
  {
   "cell_type": "code",
   "execution_count": 36,
   "id": "395fd340-221f-4eb5-85c2-b1161076a201",
   "metadata": {},
   "outputs": [
    {
     "name": "stdin",
     "output_type": "stream",
     "text": [
      "SQUARE\n",
      " enter side: 4\n"
     ]
    },
    {
     "name": "stdout",
     "output_type": "stream",
     "text": [
      "area of square with side 4 is: 16\n",
      "-----------------------\n"
     ]
    },
    {
     "name": "stdin",
     "output_type": "stream",
     "text": [
      "RECTANGLE\n",
      " enter length: 4\n",
      "enter width:  44\n"
     ]
    },
    {
     "name": "stdout",
     "output_type": "stream",
     "text": [
      "area of rectangle with length 4 \n",
      " and width 44 is: 176\n",
      "-----------------------\n"
     ]
    },
    {
     "name": "stdin",
     "output_type": "stream",
     "text": [
      "TRIANGLE\n",
      " enter base:  4\n",
      "enter height:  4\n"
     ]
    },
    {
     "name": "stdout",
     "output_type": "stream",
     "text": [
      "area of triangle with base 4 \n",
      " and height 4 is: 8.0\n",
      "-----------------------\n"
     ]
    }
   ],
   "source": [
    "###### 8 write lambda functions to find area of square,rectangle and triangle \n",
    "\n",
    "#area of square\n",
    "square_area=lambda side: int(side) * int(side)\n",
    "side=input(\"SQUARE\\n enter side:\")\n",
    "print(f\"area of square with side {side} is: {square_area(side)}\")\n",
    "print(\"-----------------------\")\n",
    "\n",
    "#area of rectangle\n",
    "rectangle_area=lambda length,width: int(length) * int(width)\n",
    "length = input(\"RECTANGLE\\n enter length:\")\n",
    "width =input(\"enter width: \")\n",
    "print(f\"area of rectangle with length {length} \\n and width {width} is: {rectangle_area(length,width)}\")\n",
    "print(\"-----------------------\")\n",
    "\n",
    "#area of triangle\n",
    "triangle_area=lambda base ,height: 0.5 * int(base) * int(height)\n",
    "base=input(\"TRIANGLE\\n enter base: \")\n",
    "height=input(\"enter height: \")\n",
    "print(f\"area of triangle with base {base} \\n and height {height} is: {(triangle_area(base,height))}\")\n",
    "print(\"-----------------------\")\n",
    "\n",
    "\n"
   ]
  },
  {
   "cell_type": "code",
   "execution_count": null,
   "id": "373cb8ab-1499-4762-b6d4-af3674bccca9",
   "metadata": {},
   "outputs": [],
   "source": [
    "#6 generate all factors of a number\n",
    "\n"
   ]
  }
 ],
 "metadata": {
  "kernelspec": {
   "display_name": "Python 3 (ipykernel)",
   "language": "python",
   "name": "python3"
  },
  "language_info": {
   "codemirror_mode": {
    "name": "ipython",
    "version": 3
   },
   "file_extension": ".py",
   "mimetype": "text/x-python",
   "name": "python",
   "nbconvert_exporter": "python",
   "pygments_lexer": "ipython3",
   "version": "3.11.5"
  }
 },
 "nbformat": 4,
 "nbformat_minor": 5
}
