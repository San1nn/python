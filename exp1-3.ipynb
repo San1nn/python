{
 "cells": [
  {
   "cell_type": "code",
   "execution_count": 1,
   "id": "e5b8b81e",
   "metadata": {},
   "outputs": [
    {
     "name": "stdout",
     "output_type": "stream",
     "text": [
      "enter any number:5\n",
      "output of n+nn+nnn= 615\n"
     ]
    }
   ],
   "source": [
    "#1 computing n+nn+nnn\n",
    "n=int(input(\"enter any number:\"))\n",
    "temp1=n*11\n",
    "temp2=n*111\n",
    "print(f\"output of {n}+{nn}+{nnn}=\",n+temp1+temp2)"
   ]
  },
  {
   "cell_type": "code",
   "execution_count": 2,
   "id": "765e723d",
   "metadata": {},
   "outputs": [
    {
     "name": "stdout",
     "output_type": "stream",
     "text": [
      "enter radius of circle:7\n",
      "the area of circle is:  153.94\n"
     ]
    }
   ],
   "source": [
    "#2 area of circle\n",
    "import math\n",
    "r=float(input(\"enter radius of circle:\"))\n",
    "print(\"the area of circle is: \",round(math.pi*r**2,2))"
   ]
  },
  {
   "cell_type": "code",
   "execution_count": 3,
   "id": "a1dc9f11",
   "metadata": {},
   "outputs": [
    {
     "name": "stdout",
     "output_type": "stream",
     "text": [
      "enter 1st  number:23\n",
      "enter 2nd number:55\n",
      "enter 3rd number:21\n",
      "the biggest number is: 55\n"
     ]
    }
   ],
   "source": [
    "#3 biggest of 3 numbers\n",
    "num1=int(input(\"enter 1st  number:\"))\n",
    "num2=int(input(\"enter 2nd number:\"))\n",
    "num3=int(input(\"enter 3rd number:\"))\n",
    "print(\"the biggest number is:\",max(num1,num2,num3))"
   ]
  },
  {
   "cell_type": "code",
   "execution_count": null,
   "id": "5b3f7e83",
   "metadata": {},
   "outputs": [],
   "source": []
  }
 ],
 "metadata": {
  "kernelspec": {
   "display_name": "Python 3 (ipykernel)",
   "language": "python",
   "name": "python3"
  },
  "language_info": {
   "codemirror_mode": {
    "name": "ipython",
    "version": 3
   },
   "file_extension": ".py",
   "mimetype": "text/x-python",
   "name": "python",
   "nbconvert_exporter": "python",
   "pygments_lexer": "ipython3",
   "version": "3.11.5"
  }
 },
 "nbformat": 4,
 "nbformat_minor": 5
}
