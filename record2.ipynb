
{
 "cells": [
  {
   "cell_type": "code",
   "execution_count": 2,
   "id": "1ec209bd",
   "metadata": {},
   "outputs": [
    {
     "name": "stdout",
     "output_type": "stream",
     "text": [
      "enter the temperature in celsius:25\n",
      "converted temperature in farenheit is : 77.0\n"
     ]
    }
   ],
   "source": [
    "#1 covert celsius into farenheit\n",
    "celcius=float(input(\"enter the temperature in celsius:\"))\n",
    "farenheit=celcius*9/5+32\n",
    "print(\"converted temperature in farenheit is :\",farenheit)"
   ]
  },
  {
   "cell_type": "code",
   "execution_count": 3,
   "id": "f76cb781",
   "metadata": {},
   "outputs": [
    {
     "name": "stdout",
     "output_type": "stream",
     "text": [
      "enter kilometer:60\n",
      "60kilometer equal to 37.28mile\n"
     ]
    }
   ],
   "source": [
    "#2 convert km into miles\n",
    "km=int(input(\"enter kilometer:\"))\n",
    "mile=round(km*0.621371,2)\n",
    "print(f\"{km}kilometer equal to {mile}mile\")"
   ]
  },
  {
   "cell_type": "code",
   "execution_count": 7,
   "id": "d18d70f8",
   "metadata": {},
   "outputs": [
    {
     "name": "stdout",
     "output_type": "stream",
     "text": [
      "enter price of product 1:120\n",
      "enter price of product 2:77\n",
      "enter price of product 3:55\n",
      "the total price: 252\n",
      "the avg price: 84.00\n",
      "the final price: 214.2 \n",
      "\n",
      "A is expensive than the final price: False\n",
      "B is expensive than the final price: False\n",
      "C is expensive than the final price: False \n",
      "\n",
      "final price is betwwen $0 and $200: False\n"
     ]
    }
   ],
   "source": [
    "#3 get 3 product prices. calculate(total,avg,final)price.check if each product price is expensive\n",
    "\n",
    "A=int(input(\"enter price of product 1:\"))\n",
    "B=int(input(\"enter price of product 2:\"))\n",
    "C=int(input(\"enter price of product 3:\"))\n",
    "\n",
    "total=A+B+C\n",
    "avg=total/3\n",
    "fp=total-(total*0.15)\n",
    "\n",
    "print(\"the total price:\",total)\n",
    "print(f\"the avg price: {avg:.2f}\")\n",
    "print(\"the final price:\",fp,\"\\n\")\n",
    "\n",
    "print(\"A is expensive than the final price:\",A>fp)\n",
    "print(\"B is expensive than the final price:\",B>fp)\n",
    "print(\"C is expensive than the final price:\",C>fp,\"\\n\")\n",
    "\n",
    "print(\"final price is betwwen $0 and $200:\",0<= fp<200)"
   ]
  },
  {
   "cell_type": "code",
   "execution_count": null,
   "id": "43818d5f",
   "metadata": {},
   "outputs": [],
   "source": []
  }
 ],
 "metadata": {
  "kernelspec": {
   "display_name": "Python 3 (ipykernel)",
   "language": "python",
   "name": "python3"
  },
  "language_info": {
   "codemirror_mode": {
    "name": "ipython",
    "version": 3
   },
   "file_extension": ".py",
   "mimetype": "text/x-python",
   "name": "python",
   "nbconvert_exporter": "python",
   "pygments_lexer": "ipython3",
   "version": "3.11.5"
  }
 },
 "nbformat": 4,
 "nbformat_minor": 5
}
